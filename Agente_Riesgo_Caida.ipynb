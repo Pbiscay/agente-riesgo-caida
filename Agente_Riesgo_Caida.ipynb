
{
 "cells": [
  {
   "cell_type": "code",
   "source": [
    "import pandas as pd\n",
    "from sklearn.tree import DecisionTreeClassifier\n",
    "from sklearn.model_selection import train_test_split\n",
    "from sklearn.metrics import classification_report\n",
    "import random"
   ],
   "metadata": {},
   "execution_count": null,
   "outputs": []
  },
  {
   "cell_type": "code",
   "source": [
    "def generar_paciente():\n",
    "    edad = random.randint(60, 85)\n",
    "    dx = random.choice([0, 1, 2])  # 0=vestibular, 1=traumatológico, 2=neurológico\n",
    "    tug = random.uniform(8, 25)\n",
    "    abc = random.randint(30, 95)\n",
    "    dhi = random.randint(0, 90)\n",
    "\n",
    "    if tug > 18 or abc < 50 or dhi > 60:\n",
    "        riesgo = \"Alto\"\n",
    "    elif 15 < tug <= 18 or 50 <= abc <= 70 or 40 < dhi <= 60:\n",
    "        riesgo = \"Medio\"\n",
    "    else:\n",
    "        riesgo = \"Bajo\"\n",
    "\n",
    "    return [edad, dx, tug, abc, dhi, riesgo]"
   ],
   "metadata": {},
   "execution_count": null,
   "outputs": []
  },
  {
   "cell_type": "code",
   "source": [
    "data = [generar_paciente() for _ in range(50)]\n",
    "columns = [\"edad\", \"diagnostico\", \"TUG\", \"ABC\", \"DHI\", \"riesgo\"]\n",
    "df = pd.DataFrame(data, columns=columns)\n",
    "df.head()"
   ],
   "metadata": {},
   "execution_count": null,
   "outputs": []
  },
  {
   "cell_type": "code",
   "source": [
    "X = df[[\"edad\", \"diagnostico\", \"TUG\", \"ABC\", \"DHI\"]]\n",
    "y = df[\"riesgo\"]\n",
    "\n",
    "X_train, X_test, y_train, y_test = train_test_split(X, y, test_size=0.2, random_state=42)\n",
    "\n",
    "modelo = DecisionTreeClassifier(max_depth=4, random_state=42)\n",
    "modelo.fit(X_train, y_train)"
   ],
   "metadata": {},
   "execution_count": null,
   "outputs": []
  },
  {
   "cell_type": "code",
   "source": [
    "y_pred = modelo.predict(X_test)\n",
    "print(\"\n📊 Informe de evaluación del modelo:\n\")\n",
    "print(classification_report(y_test, y_pred))"
   ],
   "metadata": {},
   "execution_count": null,
   "outputs": []
  },
  {
   "cell_type": "code",
   "source": [
    "nuevo_paciente = pd.DataFrame([[75, 2, 20, 45, 70]], columns=X.columns)\n",
    "print(\"\n👨‍⚕️ Nuevo paciente:\")\n",
    "print(nuevo_paciente)\n",
    "\n",
    "prediccion = modelo.predict(nuevo_paciente)\n",
    "print(\"\n🔮 Riesgo estimado de caída:\", prediccion[0])"
   ],
   "metadata": {},
   "execution_count": null,
   "outputs": []
  }
 ],
 "metadata": {
  "kernelspec": {
   "display_name": "Python 3",
   "language": "python",
   "name": "python3"
  },
  "language_info": {
   "name": "python",
   "version": ""
  }
 },
 "nbformat": 4,
 "nbformat_minor": 0
}
